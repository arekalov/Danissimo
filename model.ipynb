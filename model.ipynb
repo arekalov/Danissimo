{
 "cells": [
  {
   "cell_type": "markdown",
   "source": [
    "# Команда Даниссимо, база данных \"Мониторинг вузов\""
   ],
   "metadata": {
    "collapsed": false
   }
  },
  {
   "cell_type": "markdown",
   "metadata": {},
   "source": [
    "## Создание дополнительных переменных и удаление выбросов"
   ]
  },
  {
   "cell_type": "code",
   "execution_count": 1,
   "metadata": {
    "collapsed": true,
    "pycharm": {
     "name": "#%%\n"
    }
   },
   "outputs": [],
   "source": [
    "import pandas as pd\n",
    "import matplotlib.pyplot as plt"
   ]
  },
  {
   "cell_type": "code",
   "execution_count": 3,
   "metadata": {
    "pycharm": {
     "name": "#%%\n"
    }
   },
   "outputs": [],
   "source": [
    "df = pd.read_excel('modified_datasets\\\\result_2021_analized.xlsx') # В датасете созданно новоле поле Research, полученное из рейтинга THE"
   ]
  },
  {
   "cell_type": "code",
   "execution_count": 536,
   "outputs": [],
   "source": [
    "df = df[df['Общая численность студентов, обучающихся по программам бакалавриата, специалитета, магистратуры'] >= 1000]"
   ],
   "metadata": {
    "collapsed": false,
    "pycharm": {
     "name": "#%%\n"
    }
   }
  },
  {
   "cell_type": "code",
   "execution_count": 537,
   "metadata": {
    "pycharm": {
     "name": "#%%\n"
    }
   },
   "outputs": [],
   "source": [
    "# Добаление новых переменных\n",
    "df['Число НПР'] = df['Общая численность научных работников (без внешних совместителей и работающих по договорам ГПХ)'] + df['Общая численность ППС (без внешних совместителей и работающих по договорам ГПХ)']\n",
    "df['Число НИОКР в рассчете на 100 НПР'] = df['Общий объем научно-исследовательских и опытно-конструкторских работ (далее – НИОКР)'] / df['Число НПР'] * 100\n",
    "df['Вклад вуза в общую сумму НИОКР'] = df['Число НИОКР в рассчете на 100 НПР'] / df['Число НИОКР в рассчете на 100 НПР'].sum()\n",
    "df['Число статей, подготовленных совместно с зарубежными организациями на 100 НПР']= df['Число статей, подготовленных совместно с зарубежными организациями']/df['Число НПР'] * 100\n",
    "df['Численность зарубежных ведущих профессоров, преподавателей и исследователей, работающих в образовательной организации не менее 1 семестра на 100 НПР']= df['Численность зарубежных ведущих профессоров, преподавателей и исследователей, работающих (работавших) в образовательной организации не менее 1 семестра']/df['Число НПР']*100"
   ]
  },
  {
   "cell_type": "code",
   "execution_count": 538,
   "metadata": {
    "pycharm": {
     "name": "#%%\n"
    }
   },
   "outputs": [],
   "source": [
    "# Столбцы, которые будут учитываться при построении модели\n",
    "used_feachers = [\n",
    "    'Количество цитирований публикаций, изданных за последние 5 лет, индексируемых в информационно-аналитической системе научного цитирования Scopus в расчете на 100 НПР',\n",
    "    'Количество центров коллективного пользования научным оборудованием',\n",
    "    'Число статей, подготовленных совместно с зарубежными организациями на 100 НПР',\n",
    "    'Численность зарубежных ведущих профессоров, преподавателей и исследователей, работающих в образовательной организации не менее 1 семестра на 100 НПР',\n",
    "    'Число НПР, имеющих ученую степень кандидата и доктора наук, в расчете на 100 студентов',\n",
    "    'Research2',\n",
    "\n",
    "]"
   ]
  },
  {
   "cell_type": "code",
   "execution_count": 539,
   "metadata": {
    "pycharm": {
     "name": "#%%\n"
    }
   },
   "outputs": [],
   "source": [
    "df = df[used_feachers].dropna() # Удаление вузов, у которых неизвестно значение столбца Research"
   ]
  },
  {
   "cell_type": "code",
   "execution_count": 540,
   "metadata": {
    "pycharm": {
     "name": "#%%\n"
    }
   },
   "outputs": [
    {
     "data": {
      "text/plain": "     Количество цитирований публикаций, изданных за последние 5 лет, индексируемых в информационно-аналитической системе научного цитирования Scopus в расчете на 100 НПР  \\\n41                                             3840.74                                                                                                                      \n42                                              571.26                                                                                                                      \n43                                              241.14                                                                                                                      \n44                                              965.91                                                                                                                      \n45                                              762.37                                                                                                                      \n..                                                 ...                                                                                                                      \n436                                             389.02                                                                                                                      \n442                                             301.59                                                                                                                      \n443                                             938.50                                                                                                                      \n463                                             362.81                                                                                                                      \n464                                             394.02                                                                                                                      \n\n     Количество центров коллективного пользования научным оборудованием  \\\n41                                                   1                    \n42                                                   3                    \n43                                                   1                    \n44                                                   4                    \n45                                                   2                    \n..                                                 ...                    \n436                                                  1                    \n442                                                  0                    \n443                                                  4                    \n463                                                  3                    \n464                                                  2                    \n\n     Число статей, подготовленных совместно с зарубежными организациями на 100 НПР  \\\n41                                          150.583090                               \n42                                            7.013575                               \n43                                           11.662818                               \n44                                           23.497997                               \n45                                           12.598425                               \n..                                                 ...                               \n436                                           4.773562                               \n442                                           6.204380                               \n443                                           9.432049                               \n463                                          21.102151                               \n464                                          12.691997                               \n\n     Численность зарубежных ведущих профессоров, преподавателей и исследователей, работающих в образовательной организации не менее 1 семестра на 100 НПР  \\\n41                                           22.448980                                                                                                      \n42                                            1.809955                                                                                                      \n43                                            0.923788                                                                                                      \n44                                            1.268358                                                                                                      \n45                                            4.724409                                                                                                      \n..                                                 ...                                                                                                      \n436                                           2.203182                                                                                                      \n442                                           0.000000                                                                                                      \n443                                           1.217039                                                                                                      \n463                                           1.612903                                                                                                      \n464                                           2.182700                                                                                                      \n\n     Число НПР, имеющих ученую степень кандидата и доктора наук, в расчете на 100 студентов  \\\n41                                                8.56                                        \n42                                                6.18                                        \n43                                                6.41                                        \n44                                               14.28                                        \n45                                                5.04                                        \n..                                                 ...                                        \n436                                               3.62                                        \n442                                               8.00                                        \n443                                               4.45                                        \n463                                               6.34                                        \n464                                               5.72                                        \n\n     Research2  \n41        46.8  \n42        13.5  \n43        10.6  \n44        11.2  \n45        11.4  \n..         ...  \n436        9.6  \n442        8.3  \n443       13.0  \n463       18.4  \n464        9.7  \n\n[76 rows x 6 columns]",
      "text/html": "<div>\n<style scoped>\n    .dataframe tbody tr th:only-of-type {\n        vertical-align: middle;\n    }\n\n    .dataframe tbody tr th {\n        vertical-align: top;\n    }\n\n    .dataframe thead th {\n        text-align: right;\n    }\n</style>\n<table border=\"1\" class=\"dataframe\">\n  <thead>\n    <tr style=\"text-align: right;\">\n      <th></th>\n      <th>Количество цитирований публикаций, изданных за последние 5 лет, индексируемых в информационно-аналитической системе научного цитирования Scopus в расчете на 100 НПР</th>\n      <th>Количество центров коллективного пользования научным оборудованием</th>\n      <th>Число статей, подготовленных совместно с зарубежными организациями на 100 НПР</th>\n      <th>Численность зарубежных ведущих профессоров, преподавателей и исследователей, работающих в образовательной организации не менее 1 семестра на 100 НПР</th>\n      <th>Число НПР, имеющих ученую степень кандидата и доктора наук, в расчете на 100 студентов</th>\n      <th>Research2</th>\n    </tr>\n  </thead>\n  <tbody>\n    <tr>\n      <th>41</th>\n      <td>3840.74</td>\n      <td>1</td>\n      <td>150.583090</td>\n      <td>22.448980</td>\n      <td>8.56</td>\n      <td>46.8</td>\n    </tr>\n    <tr>\n      <th>42</th>\n      <td>571.26</td>\n      <td>3</td>\n      <td>7.013575</td>\n      <td>1.809955</td>\n      <td>6.18</td>\n      <td>13.5</td>\n    </tr>\n    <tr>\n      <th>43</th>\n      <td>241.14</td>\n      <td>1</td>\n      <td>11.662818</td>\n      <td>0.923788</td>\n      <td>6.41</td>\n      <td>10.6</td>\n    </tr>\n    <tr>\n      <th>44</th>\n      <td>965.91</td>\n      <td>4</td>\n      <td>23.497997</td>\n      <td>1.268358</td>\n      <td>14.28</td>\n      <td>11.2</td>\n    </tr>\n    <tr>\n      <th>45</th>\n      <td>762.37</td>\n      <td>2</td>\n      <td>12.598425</td>\n      <td>4.724409</td>\n      <td>5.04</td>\n      <td>11.4</td>\n    </tr>\n    <tr>\n      <th>...</th>\n      <td>...</td>\n      <td>...</td>\n      <td>...</td>\n      <td>...</td>\n      <td>...</td>\n      <td>...</td>\n    </tr>\n    <tr>\n      <th>436</th>\n      <td>389.02</td>\n      <td>1</td>\n      <td>4.773562</td>\n      <td>2.203182</td>\n      <td>3.62</td>\n      <td>9.6</td>\n    </tr>\n    <tr>\n      <th>442</th>\n      <td>301.59</td>\n      <td>0</td>\n      <td>6.204380</td>\n      <td>0.000000</td>\n      <td>8.00</td>\n      <td>8.3</td>\n    </tr>\n    <tr>\n      <th>443</th>\n      <td>938.50</td>\n      <td>4</td>\n      <td>9.432049</td>\n      <td>1.217039</td>\n      <td>4.45</td>\n      <td>13.0</td>\n    </tr>\n    <tr>\n      <th>463</th>\n      <td>362.81</td>\n      <td>3</td>\n      <td>21.102151</td>\n      <td>1.612903</td>\n      <td>6.34</td>\n      <td>18.4</td>\n    </tr>\n    <tr>\n      <th>464</th>\n      <td>394.02</td>\n      <td>2</td>\n      <td>12.691997</td>\n      <td>2.182700</td>\n      <td>5.72</td>\n      <td>9.7</td>\n    </tr>\n  </tbody>\n</table>\n<p>76 rows × 6 columns</p>\n</div>"
     },
     "execution_count": 540,
     "metadata": {},
     "output_type": "execute_result"
    }
   ],
   "source": [
    "df"
   ]
  },
  {
   "cell_type": "code",
   "execution_count": 541,
   "metadata": {
    "pycharm": {
     "name": "#%%\n"
    }
   },
   "outputs": [],
   "source": [
    "# Столбцы которые необходимо нормировать\n",
    "to_norm_feachers = ['Количество цитирований публикаций, изданных за последние 5 лет, индексируемых в информационно-аналитической системе научного цитирования Scopus в расчете на 100 НПР',\n",
    "    'Количество центров коллективного пользования научным оборудованием',\n",
    "    'Число статей, подготовленных совместно с зарубежными организациями на 100 НПР',\n",
    "    'Численность зарубежных ведущих профессоров, преподавателей и исследователей, работающих в образовательной организации не менее 1 семестра на 100 НПР',\n",
    "    ]"
   ]
  },
  {
   "cell_type": "markdown",
   "metadata": {
    "pycharm": {
     "name": "#%% md\n"
    }
   },
   "source": [
    "![Формула нормирования](https://dev-gang.ru/static/storage/37403660903642076772234929412457116574.png)"
   ]
  },
  {
   "cell_type": "code",
   "execution_count": 542,
   "metadata": {
    "pycharm": {
     "name": "#%%\n"
    }
   },
   "outputs": [],
   "source": [
    "# Нормализация по формуле\n",
    "for i in to_norm_feachers:\n",
    "    feat = df[i]\n",
    "    df[i] = (feat-feat.min()) / (feat.max() - feat.min())"
   ]
  },
  {
   "cell_type": "markdown",
   "metadata": {
    "pycharm": {
     "name": "#%% md\n"
    }
   },
   "source": [
    "## Построение модели линейной регрессии"
   ]
  },
  {
   "cell_type": "code",
   "execution_count": 543,
   "metadata": {
    "pycharm": {
     "name": "#%%\n"
    }
   },
   "outputs": [],
   "source": [
    "from sklearn.model_selection import train_test_split\n",
    "from sklearn.metrics import mean_squared_error\n",
    "from sklearn.linear_model import LinearRegression"
   ]
  },
  {
   "cell_type": "markdown",
   "source": [
    "![Уравнение линейной энергии](https://wikimedia.org/api/rest_v1/media/math/render/svg/5db3071becf5c09f0db5a7f113e57c1184973a17)"
   ],
   "metadata": {
    "collapsed": false,
    "pycharm": {
     "name": "#%% md\n"
    }
   }
  },
  {
   "cell_type": "code",
   "execution_count": 544,
   "metadata": {
    "pycharm": {
     "name": "#%%\n"
    }
   },
   "outputs": [],
   "source": [
    "x_train, x_test, y_train, y_test = train_test_split(df.drop('Research2', axis=1), df['Research2'], test_size=0.00001, random_state=1) #"
   ]
  },
  {
   "cell_type": "code",
   "metadata": {
    "pycharm": {
     "name": "#%%\n"
    }
   },
   "source": [
    "regressor = LinearRegression()\n",
    "regressor.fit(x_train, y_train)"
   ],
   "execution_count": 545,
   "outputs": [
    {
     "data": {
      "text/plain": "LinearRegression()",
      "text/html": "<style>#sk-container-id-27 {color: black;background-color: white;}#sk-container-id-27 pre{padding: 0;}#sk-container-id-27 div.sk-toggleable {background-color: white;}#sk-container-id-27 label.sk-toggleable__label {cursor: pointer;display: block;width: 100%;margin-bottom: 0;padding: 0.3em;box-sizing: border-box;text-align: center;}#sk-container-id-27 label.sk-toggleable__label-arrow:before {content: \"▸\";float: left;margin-right: 0.25em;color: #696969;}#sk-container-id-27 label.sk-toggleable__label-arrow:hover:before {color: black;}#sk-container-id-27 div.sk-estimator:hover label.sk-toggleable__label-arrow:before {color: black;}#sk-container-id-27 div.sk-toggleable__content {max-height: 0;max-width: 0;overflow: hidden;text-align: left;background-color: #f0f8ff;}#sk-container-id-27 div.sk-toggleable__content pre {margin: 0.2em;color: black;border-radius: 0.25em;background-color: #f0f8ff;}#sk-container-id-27 input.sk-toggleable__control:checked~div.sk-toggleable__content {max-height: 200px;max-width: 100%;overflow: auto;}#sk-container-id-27 input.sk-toggleable__control:checked~label.sk-toggleable__label-arrow:before {content: \"▾\";}#sk-container-id-27 div.sk-estimator input.sk-toggleable__control:checked~label.sk-toggleable__label {background-color: #d4ebff;}#sk-container-id-27 div.sk-label input.sk-toggleable__control:checked~label.sk-toggleable__label {background-color: #d4ebff;}#sk-container-id-27 input.sk-hidden--visually {border: 0;clip: rect(1px 1px 1px 1px);clip: rect(1px, 1px, 1px, 1px);height: 1px;margin: -1px;overflow: hidden;padding: 0;position: absolute;width: 1px;}#sk-container-id-27 div.sk-estimator {font-family: monospace;background-color: #f0f8ff;border: 1px dotted black;border-radius: 0.25em;box-sizing: border-box;margin-bottom: 0.5em;}#sk-container-id-27 div.sk-estimator:hover {background-color: #d4ebff;}#sk-container-id-27 div.sk-parallel-item::after {content: \"\";width: 100%;border-bottom: 1px solid gray;flex-grow: 1;}#sk-container-id-27 div.sk-label:hover label.sk-toggleable__label {background-color: #d4ebff;}#sk-container-id-27 div.sk-serial::before {content: \"\";position: absolute;border-left: 1px solid gray;box-sizing: border-box;top: 0;bottom: 0;left: 50%;z-index: 0;}#sk-container-id-27 div.sk-serial {display: flex;flex-direction: column;align-items: center;background-color: white;padding-right: 0.2em;padding-left: 0.2em;position: relative;}#sk-container-id-27 div.sk-item {position: relative;z-index: 1;}#sk-container-id-27 div.sk-parallel {display: flex;align-items: stretch;justify-content: center;background-color: white;position: relative;}#sk-container-id-27 div.sk-item::before, #sk-container-id-27 div.sk-parallel-item::before {content: \"\";position: absolute;border-left: 1px solid gray;box-sizing: border-box;top: 0;bottom: 0;left: 50%;z-index: -1;}#sk-container-id-27 div.sk-parallel-item {display: flex;flex-direction: column;z-index: 1;position: relative;background-color: white;}#sk-container-id-27 div.sk-parallel-item:first-child::after {align-self: flex-end;width: 50%;}#sk-container-id-27 div.sk-parallel-item:last-child::after {align-self: flex-start;width: 50%;}#sk-container-id-27 div.sk-parallel-item:only-child::after {width: 0;}#sk-container-id-27 div.sk-dashed-wrapped {border: 1px dashed gray;margin: 0 0.4em 0.5em 0.4em;box-sizing: border-box;padding-bottom: 0.4em;background-color: white;}#sk-container-id-27 div.sk-label label {font-family: monospace;font-weight: bold;display: inline-block;line-height: 1.2em;}#sk-container-id-27 div.sk-label-container {text-align: center;}#sk-container-id-27 div.sk-container {/* jupyter's `normalize.less` sets `[hidden] { display: none; }` but bootstrap.min.css set `[hidden] { display: none !important; }` so we also need the `!important` here to be able to override the default hidden behavior on the sphinx rendered scikit-learn.org. See: https://github.com/scikit-learn/scikit-learn/issues/21755 */display: inline-block !important;position: relative;}#sk-container-id-27 div.sk-text-repr-fallback {display: none;}</style><div id=\"sk-container-id-27\" class=\"sk-top-container\"><div class=\"sk-text-repr-fallback\"><pre>LinearRegression()</pre><b>In a Jupyter environment, please rerun this cell to show the HTML representation or trust the notebook. <br />On GitHub, the HTML representation is unable to render, please try loading this page with nbviewer.org.</b></div><div class=\"sk-container\" hidden><div class=\"sk-item\"><div class=\"sk-estimator sk-toggleable\"><input class=\"sk-toggleable__control sk-hidden--visually\" id=\"sk-estimator-id-27\" type=\"checkbox\" checked><label for=\"sk-estimator-id-27\" class=\"sk-toggleable__label sk-toggleable__label-arrow\">LinearRegression</label><div class=\"sk-toggleable__content\"><pre>LinearRegression()</pre></div></div></div></div></div>"
     },
     "execution_count": 545,
     "metadata": {},
     "output_type": "execute_result"
    }
   ]
  },
  {
   "cell_type": "code",
   "execution_count": 546,
   "metadata": {
    "pycharm": {
     "name": "#%%\n"
    }
   },
   "outputs": [
    {
     "name": "stdout",
     "output_type": "stream",
     "text": [
      "Количество цитирований публика 17.240245118278104\n",
      "Количество центров коллективно 11.272808692221211\n",
      "Число статей, подготовленных с 5.4592582295917325\n",
      "Численность зарубежных ведущих 19.049101216343225\n",
      "Число НПР, имеющих ученую степ 1.2502656975313506\n",
      "1.1169365864405183\n"
     ]
    }
   ],
   "source": [
    "coefs = regressor.coef_ # Печать весов\n",
    "for i in range(len(used_feachers) - 1):\n",
    "    print(used_feachers[i][:30], coefs[i])\n",
    "print(regressor.intercept_) # печать свободного члена"
   ]
  },
  {
   "cell_type": "markdown",
   "source": [
    "## Проверка статистической значимости весов"
   ],
   "metadata": {
    "collapsed": false,
    "pycharm": {
     "name": "#%% md\n"
    }
   }
  },
  {
   "cell_type": "code",
   "execution_count": 547,
   "outputs": [],
   "source": [
    "import statsmodels.api as sm"
   ],
   "metadata": {
    "collapsed": false,
    "pycharm": {
     "name": "#%%\n"
    }
   }
  },
  {
   "cell_type": "code",
   "execution_count": 548,
   "outputs": [],
   "source": [
    "X = x_train\n",
    "y = y_train"
   ],
   "metadata": {
    "collapsed": false,
    "pycharm": {
     "name": "#%%\n"
    }
   }
  },
  {
   "cell_type": "code",
   "execution_count": 549,
   "outputs": [
    {
     "name": "stdout",
     "output_type": "stream",
     "text": [
      "                            OLS Regression Results                            \n",
      "==============================================================================\n",
      "Dep. Variable:              Research2   R-squared:                       0.594\n",
      "Model:                            OLS   Adj. R-squared:                  0.564\n",
      "Method:                 Least Squares   F-statistic:                     20.16\n",
      "Date:                Tue, 20 Dec 2022   Prob (F-statistic):           2.44e-12\n",
      "Time:                        16:08:24   Log-Likelihood:                -254.14\n",
      "No. Observations:                  75   AIC:                             520.3\n",
      "Df Residuals:                      69   BIC:                             534.2\n",
      "Df Model:                           5                                         \n",
      "Covariance Type:            nonrobust                                         \n",
      "========================================================================================================================================================================================================================================\n",
      "                                                                                                                                                                           coef    std err          t      P>|t|      [0.025      0.975]\n",
      "----------------------------------------------------------------------------------------------------------------------------------------------------------------------------------------------------------------------------------------\n",
      "const                                                                                                                                                                    1.1169      2.159      0.517      0.606      -3.189       5.423\n",
      "Количество цитирований публикаций, изданных за последние 5 лет, индексируемых в информационно-аналитической системе научного цитирования Scopus в расчете на 100 НПР    17.2402      8.643      1.995      0.050      -0.002      34.483\n",
      "Количество центров коллективного пользования научным оборудованием                                                                                                      11.2728      4.494      2.509      0.014       2.308      20.238\n",
      "Число статей, подготовленных совместно с зарубежными организациями на 100 НПР                                                                                            5.4593      9.888      0.552      0.583     -14.268      25.186\n",
      "Численность зарубежных ведущих профессоров, преподавателей и исследователей, работающих в образовательной организации не менее 1 семестра на 100 НПР                    19.0491      7.095      2.685      0.009       4.895      33.203\n",
      "Число НПР, имеющих ученую степень кандидата и доктора наук, в расчете на 100 студентов                                                                                   1.2503      0.323      3.874      0.000       0.606       1.894\n",
      "==============================================================================\n",
      "Omnibus:                       44.371   Durbin-Watson:                   1.911\n",
      "Prob(Omnibus):                  0.000   Jarque-Bera (JB):              185.758\n",
      "Skew:                           1.723   Prob(JB):                     4.60e-41\n",
      "Kurtosis:                       9.897   Cond. No.                         96.3\n",
      "==============================================================================\n",
      "\n",
      "Notes:\n",
      "[1] Standard Errors assume that the covariance matrix of the errors is correctly specified.\n"
     ]
    }
   ],
   "source": [
    "X2 = sm.add_constant(X)\n",
    "est = sm.OLS(y, X2)\n",
    "est2 = est.fit()\n",
    "print(est2.summary()) # Получение сводки"
   ],
   "metadata": {
    "collapsed": false,
    "pycharm": {
     "name": "#%%\n"
    }
   }
  },
  {
   "cell_type": "markdown",
   "source": [],
   "metadata": {
    "collapsed": false,
    "pycharm": {
     "name": "#%% md\n"
    }
   }
  }
 ],
 "metadata": {
  "kernelspec": {
   "display_name": "Python 3 (ipykernel)",
   "language": "python",
   "name": "python3"
  },
  "language_info": {
   "codemirror_mode": {
    "name": "ipython",
    "version": 3
   },
   "file_extension": ".py",
   "mimetype": "text/x-python",
   "name": "python",
   "nbconvert_exporter": "python",
   "pygments_lexer": "ipython3",
   "version": "3.9.7"
  }
 },
 "nbformat": 4,
 "nbformat_minor": 1
}